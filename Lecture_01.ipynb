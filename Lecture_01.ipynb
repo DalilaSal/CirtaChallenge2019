{
 "cells": [
  {
   "cell_type": "markdown",
   "metadata": {},
   "source": [
    "# 1. Jupyter notebook"
   ]
  },
  {
   "cell_type": "code",
   "execution_count": 85,
   "metadata": {},
   "outputs": [
    {
     "name": "stdout",
     "output_type": "stream",
     "text": [
      "30\n"
     ]
    }
   ],
   "source": [
    "a = 10\n",
    "b = 20\n",
    "\n",
    "print a+b\n",
    "\n",
    "# This is a comment"
   ]
  },
  {
   "cell_type": "code",
   "execution_count": null,
   "metadata": {},
   "outputs": [],
   "source": [
    "\"\"\"\n",
    "\n",
    "# Title 1\n",
    "\n",
    "## Title 2\n",
    "\n",
    "### Title 3\n",
    "\n",
    "\"\"\""
   ]
  },
  {
   "cell_type": "markdown",
   "metadata": {},
   "source": [
    "# Title 1\n",
    "\n",
    "## Title 2\n",
    "\n",
    "### Title 3"
   ]
  },
  {
   "cell_type": "markdown",
   "metadata": {},
   "source": [
    "# 2. Numpy"
   ]
  },
  {
   "cell_type": "code",
   "execution_count": 3,
   "metadata": {},
   "outputs": [],
   "source": [
    "import numpy as np"
   ]
  },
  {
   "cell_type": "code",
   "execution_count": 10,
   "metadata": {},
   "outputs": [
    {
     "name": "stdout",
     "output_type": "stream",
     "text": [
      "[2 3 4 5 6 7 8 9]\n",
      "[2 3 4 5 6 7 8 9] [4 1 1 3 1 2 1 1]\n"
     ]
    }
   ],
   "source": [
    "# Unique values in an array\n",
    "\n",
    "a = [2,2,3,5,4,5,6,7,7,2,2,9,8,5]\n",
    "print np.unique(a)\n",
    "\n",
    "unique, counts = np.unique(a, return_counts=True)\n",
    "print unique, counts"
   ]
  },
  {
   "cell_type": "code",
   "execution_count": 12,
   "metadata": {},
   "outputs": [
    {
     "name": "stdout",
     "output_type": "stream",
     "text": [
      "[0. 0. 0. 0. 0. 0. 0. 0. 0. 0.] [1. 1. 1. 1. 1. 1. 1. 1. 1. 1. 1. 1. 1. 1. 1. 1. 1. 1. 1. 1.]\n"
     ]
    }
   ],
   "source": [
    "#  Create an array of zeros of size 10 and another of ones uniquement of size 20 \n",
    "\n",
    "a = np.zeros(10)\n",
    "b = np.ones(20)\n",
    "\n",
    "print a,b"
   ]
  },
  {
   "cell_type": "code",
   "execution_count": 13,
   "metadata": {},
   "outputs": [
    {
     "name": "stdout",
     "output_type": "stream",
     "text": [
      "[9 6 6 3 1 6 9 1 6 8]\n"
     ]
    }
   ],
   "source": [
    "# Create an array of size 10 filled with random int values\n",
    "\n",
    "a = np.random.randint(0, 10, 10)\n",
    "print a"
   ]
  },
  {
   "cell_type": "code",
   "execution_count": 15,
   "metadata": {},
   "outputs": [
    {
     "name": "stdout",
     "output_type": "stream",
     "text": [
      "[ 2  3  4  5  6  7  8  9 10]\n",
      "[[ 2  3  4]\n",
      " [ 5  6  7]\n",
      " [ 8  9 10]]\n"
     ]
    }
   ],
   "source": [
    "# Convert x to a matrix of 3x3\n",
    "\n",
    "x = np.array([ 2,  3,  4,  5,  6,  7,  8,  9, 10]) \n",
    "print x\n",
    "print x.reshape(3,3,)"
   ]
  },
  {
   "cell_type": "code",
   "execution_count": 21,
   "metadata": {},
   "outputs": [
    {
     "name": "stdout",
     "output_type": "stream",
     "text": [
      "[[2 5]\n",
      " [4 4]\n",
      " [3 5]\n",
      " [6 7]]\n",
      "shape (4, 2)\n",
      "Values first ligne  [2 5]\n",
      "Values first column  [2 4 3 6]\n"
     ]
    }
   ],
   "source": [
    "# Shape, values per ligne, per column\n",
    "\n",
    "x = np.array([[2,5],[4,4],[3,5],[6,7]]) \n",
    "print x\n",
    "print 'shape' ,  x.shape\n",
    "print 'Values first ligne ' , x[0]\n",
    "print 'Values first column ' , x[:,0]\n"
   ]
  },
  {
   "cell_type": "code",
   "execution_count": 26,
   "metadata": {},
   "outputs": [
    {
     "name": "stdout",
     "output_type": "stream",
     "text": [
      "[[0 1 3]\n",
      " [5 7 9]]\n",
      "[[ 0  2  4]\n",
      " [ 6  8 10]]\n",
      " Concatenate per ligne \n",
      "[[ 0  1  3]\n",
      " [ 5  7  9]\n",
      " [ 0  2  4]\n",
      " [ 6  8 10]]\n",
      " Concatenate per column \n",
      "[[ 0  1  3  0  2  4]\n",
      " [ 5  7  9  6  8 10]]\n"
     ]
    }
   ],
   "source": [
    "# Concatenate a and b in c per column and per ligne \n",
    "\n",
    "a = np.array([[0, 1, 3], [5, 7, 9]])\n",
    "b = np.array([[0, 2, 4], [6, 8, 10]])\n",
    "\n",
    "print a\n",
    "print b\n",
    "\n",
    "print ' Concatenate per ligne '\n",
    "c = np.concatenate((a, b), axis=0 )\n",
    "print c \n",
    "print ' Concatenate per column '\n",
    "c = np.concatenate((a, b), axis=1 )\n",
    "print c "
   ]
  },
  {
   "cell_type": "code",
   "execution_count": 30,
   "metadata": {},
   "outputs": [
    {
     "name": "stdout",
     "output_type": "stream",
     "text": [
      "[ 1.  2.  3.  5.  3.  4. 10. 15. 20. 55. 43.]\n"
     ]
    }
   ],
   "source": [
    "# File saving & File reading\n",
    "\n",
    "x = np.array([1,2,3,5,3,4,10,15,20,55,43])\n",
    "\n",
    "np.savetxt('out.txt', x ) # save\n",
    "a = np.loadtxt('out.txt') # read\n",
    "\n",
    "print a"
   ]
  },
  {
   "cell_type": "markdown",
   "metadata": {},
   "source": [
    "## Root_numpy"
   ]
  },
  {
   "cell_type": "code",
   "execution_count": null,
   "metadata": {},
   "outputs": [],
   "source": [
    "\"\"\"\n",
    "Public data credit to : https://github.com/yandexdataschool/mlhep2017/\n",
    "\"\"\""
   ]
  },
  {
   "cell_type": "code",
   "execution_count": 51,
   "metadata": {},
   "outputs": [
    {
     "name": "stdout",
     "output_type": "stream",
     "text": [
      "['tree;1']\n"
     ]
    }
   ],
   "source": [
    "import uproot\n",
    "\n",
    "rootFile = \"public_train_10000.root\"\n",
    "\n",
    "tree=uproot.open(rootFile)\n",
    "print tree.keys()"
   ]
  },
  {
   "cell_type": "code",
   "execution_count": 52,
   "metadata": {},
   "outputs": [
    {
     "data": {
      "text/plain": [
       "['event_id',\n",
       " 'target',\n",
       " 'lepton_pt',\n",
       " 'lepton_eta',\n",
       " 'lepton_phi',\n",
       " 'mem_pt',\n",
       " 'mem_phi',\n",
       " 'jet1_pt',\n",
       " 'jet1_eta',\n",
       " 'jet1_phi',\n",
       " 'jet1_btag',\n",
       " 'jet2_pt',\n",
       " 'jet2_eta',\n",
       " 'jet2_phi',\n",
       " 'jet2_btag',\n",
       " 'jet3_pt',\n",
       " 'jet3_eta',\n",
       " 'jet3_phi',\n",
       " 'jet3_btag',\n",
       " 'jet4_pt',\n",
       " 'jet4_eta',\n",
       " 'jet4_phi',\n",
       " 'jet4_btag',\n",
       " 'm_jj',\n",
       " 'm_jjj',\n",
       " 'm_lv',\n",
       " 'm_jlv',\n",
       " 'm_bb',\n",
       " 'm_wbb',\n",
       " 'm_wwbb']"
      ]
     },
     "execution_count": 52,
     "metadata": {},
     "output_type": "execute_result"
    }
   ],
   "source": [
    "tree['tree'].keys()"
   ]
  },
  {
   "cell_type": "code",
   "execution_count": 66,
   "metadata": {},
   "outputs": [
    {
     "data": {
      "text/plain": [
       "<TBranch 'lepton_pt' at 0x7fd59b179e50>"
      ]
     },
     "execution_count": 66,
     "metadata": {},
     "output_type": "execute_result"
    }
   ],
   "source": [
    "tree['tree']['lepton_pt']"
   ]
  },
  {
   "cell_type": "markdown",
   "metadata": {},
   "source": [
    "# 3. File strcuture "
   ]
  },
  {
   "cell_type": "markdown",
   "metadata": {},
   "source": [
    "## 3.1 CSV"
   ]
  },
  {
   "cell_type": "code",
   "execution_count": null,
   "metadata": {},
   "outputs": [],
   "source": []
  },
  {
   "cell_type": "markdown",
   "metadata": {},
   "source": [
    "## 3.2 HDF5"
   ]
  },
  {
   "cell_type": "code",
   "execution_count": 71,
   "metadata": {},
   "outputs": [],
   "source": [
    "import h5py\n",
    "\n",
    "h5File = h5py.File('training.h5' , 'r+') \n",
    "    \n",
    "gammaEvents = h5File.get( 'gamma' )\n",
    "gammaTruthEnergies = gammaEvents['energy'][:]\n",
    "\n",
    "energyL0 = np.array(gammaEvents['layer_0'][:])\n",
    "energyL1 = np.array(gammaEvents['layer_1'][:])\n",
    "energyL2 = np.array(gammaEvents['layer_2'][:])\n",
    "energyOverFlow = np.array(gammaEvents['overflow'][:])"
   ]
  },
  {
   "cell_type": "markdown",
   "metadata": {},
   "source": [
    "# 4. Matplotlib"
   ]
  },
  {
   "cell_type": "code",
   "execution_count": 74,
   "metadata": {},
   "outputs": [],
   "source": [
    "import matplotlib.pyplot as plt\n",
    "from matplotlib.colors import LogNorm"
   ]
  },
  {
   "cell_type": "code",
   "execution_count": 92,
   "metadata": {},
   "outputs": [
    {
     "data": {
      "image/png": "[encoded data removed]",
      "text/plain": [
       "<Figure size 432x288 with 1 Axes>"
      ]
     },
     "metadata": {},
     "output_type": "display_data"
    }
   ],
   "source": [
    "# Scatter plot \n",
    "\n",
    "plt.scatter(np.concatenate(energyL2[0]),np.concatenate(energyL2[100]) )\n",
    "plt.show()"
   ]
  },
  {
   "cell_type": "code",
   "execution_count": 86,
   "metadata": {},
   "outputs": [
    {
     "data": {
      "image/png": "[encoded data removed]",
      "text/plain": [
       "<Figure size 720x576 with 1 Axes>"
      ]
     },
     "metadata": {},
     "output_type": "display_data"
    }
   ],
   "source": [
    "# Histogram\n",
    "\n",
    "plt.figure(figsize=(10,8))\n",
    "plt.hist( ([ np.sum(energyL2[pId]) for pId in range(len(energyL2)) ]) ,bins=100)\n",
    "plt.xlabel(\"Energy [MeV] \")\n",
    "plt.ylabel(\"Frequency of events\")\n",
    "plt.title(\"Distribution of truth energies, particle type : Gamma \"   )\n",
    "plt.show()"
   ]
  },
  {
   "cell_type": "code",
   "execution_count": 76,
   "metadata": {},
   "outputs": [
    {
     "data": {
      "image/png": "[encoded data removed]",
      "text/plain": [
       "<Figure size 864x720 with 2 Axes>"
      ]
     },
     "metadata": {},
     "output_type": "display_data"
    }
   ],
   "source": [
    "# Image\n",
    "\n",
    "plt.figure( figsize=(12,10) )\n",
    "plt.imshow( energyL2[10] , norm=LogNorm() ) \n",
    "plt.colorbar()\n",
    "plt.show()"
   ]
  },
  {
   "cell_type": "code",
   "execution_count": 97,
   "metadata": {},
   "outputs": [
    {
     "data": {
      "image/png": "[encoded data removed]",
      "text/plain": [
       "<Figure size 432x288 with 1 Axes>"
      ]
     },
     "metadata": {},
     "output_type": "display_data"
    }
   ],
   "source": [
    "# 3D plot\n",
    "\n",
    "from mpl_toolkits.mplot3d import Axes3D\n",
    "\n",
    "fig = plt.figure()\n",
    "ax = fig.add_subplot(111, projection='3d')\n",
    "ax.scatter( energyL2[:,0], energyL2[:,1], energyL2[:,2] )\n",
    "plt.show()"
   ]
  }
 ],
 "metadata": {
  "kernelspec": {
   "display_name": "Python 2",
   "language": "python",
   "name": "python2"
  },
  "language_info": {
   "codemirror_mode": {
    "name": "ipython",
    "version": 2
   },
   "file_extension": ".py",
   "mimetype": "text/x-python",
   "name": "python",
   "nbconvert_exporter": "python",
   "pygments_lexer": "ipython2",
   "version": "2.7.12"
  }
 },
 "nbformat": 4,
 "nbformat_minor": 2
}
