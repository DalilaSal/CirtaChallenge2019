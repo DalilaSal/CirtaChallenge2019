{
 "cells": [
  {
   "cell_type": "code",
   "execution_count": null,
   "metadata": {},
   "outputs": [],
   "source": [
    "\"\"\"\n",
    "\n",
    "- The training and test files are a collection of 50.000 showers per particle type. They were constrcuted from \n",
    "the dataset available : https://data.mendeley.com/datasets/pvn3xc3wy5/1 \n",
    "\n",
    "@ “B.Nachman; L.de Oliveira,; M.Paganini (2017), “Electromagnetic Calorimeter Shower Images”, Mendeley Data, v1“, \n",
    "DOI: 10.17632/pvn3xc3wy5.1\"\n",
    "\n",
    "\"\"\""
   ]
  },
  {
   "cell_type": "markdown",
   "metadata": {},
   "source": [
    "## Import packages"
   ]
  },
  {
   "cell_type": "code",
   "execution_count": 1,
   "metadata": {},
   "outputs": [
    {
     "name": "stderr",
     "output_type": "stream",
     "text": [
      "/usr/local/lib/python2.7/dist-packages/h5py/__init__.py:36: FutureWarning: Conversion of the second argument of issubdtype from `float` to `np.floating` is deprecated. In future, it will be treated as `np.float64 == np.dtype(float).type`.\n",
      "  from ._conv import register_converters as _register_converters\n"
     ]
    }
   ],
   "source": [
    "import matplotlib.pyplot as plt\n",
    "from matplotlib.colors import LogNorm\n",
    "import numpy as np\n",
    "import h5py"
   ]
  },
  {
   "cell_type": "markdown",
   "metadata": {},
   "source": [
    "# 1. Read dataset"
   ]
  },
  {
   "cell_type": "code",
   "execution_count": 2,
   "metadata": {},
   "outputs": [
    {
     "name": "stdout",
     "output_type": "stream",
     "text": [
      "0 gamma\n",
      "1 piplus\n",
      "2 eplus\n"
     ]
    }
   ],
   "source": [
    "h5File = h5py.File('training.h5' , 'r+')\n",
    "\n",
    "X = []\n",
    "y = []\n",
    "particles = ['gamma' ,'piplus','eplus']\n",
    "\n",
    "for particleId , particleFile in enumerate(particles) :\n",
    "    \n",
    "    print particleId , particleFile\n",
    "    \n",
    "    events_ = h5File.get( particleFile )\n",
    "    \n",
    "    energyL0 = np.array(events_['layer_0'][:])\n",
    "    energyL1 = np.array(events_['layer_1'][:])\n",
    "    energyL2 = np.array(events_['layer_2'][:])\n",
    "    energyOverFlow = np.array(events_['overflow'][:])\n",
    "    \n",
    "    eventsCPT = np.array( [ np.concatenate([ \n",
    "                                       np.concatenate(energyL0[shower]),\n",
    "                                       np.concatenate(energyL1[shower]),\n",
    "                                       np.concatenate(energyL2[shower]),\n",
    "                                       energyOverFlow[shower]  \n",
    "                                      ]) for shower in range(len(energyL0)) ] )\n",
    "    \n",
    "    X.append( eventsCPT )\n",
    "    y.append( [particleId]*len(energyL0)  )\n",
    "    \n",
    "X = np.array(X)\n",
    "y = np.array(y)"
   ]
  },
  {
   "cell_type": "code",
   "execution_count": 3,
   "metadata": {},
   "outputs": [
    {
     "data": {
      "text/plain": [
       "((3, 50000, 507), (3, 50000))"
      ]
     },
     "execution_count": 3,
     "metadata": {},
     "output_type": "execute_result"
    }
   ],
   "source": [
    "X.shape , y.shape"
   ]
  },
  {
   "cell_type": "code",
   "execution_count": 4,
   "metadata": {},
   "outputs": [
    {
     "name": "stdout",
     "output_type": "stream",
     "text": [
      "(150000, 507)\n"
     ]
    }
   ],
   "source": [
    "X = X.reshape(X.shape[0]*X.shape[1],X.shape[2])\n",
    "print X.shape"
   ]
  },
  {
   "cell_type": "code",
   "execution_count": 5,
   "metadata": {},
   "outputs": [
    {
     "name": "stdout",
     "output_type": "stream",
     "text": [
      "(150000,)\n"
     ]
    }
   ],
   "source": [
    "y = y.reshape(y.shape[0]*y.shape[1])\n",
    "print y.shape"
   ]
  },
  {
   "cell_type": "markdown",
   "metadata": {},
   "source": [
    "# 2. SVM for event classification in the calorimeter"
   ]
  },
  {
   "cell_type": "code",
   "execution_count": 6,
   "metadata": {},
   "outputs": [
    {
     "name": "stdout",
     "output_type": "stream",
     "text": [
      "0.0 1.0\n"
     ]
    }
   ],
   "source": [
    "# Data preprocessing : [0,1]\n",
    "\n",
    "nmax = np.max(X)\n",
    "X /= nmax\n",
    "print np.min(X), np.max(X)"
   ]
  },
  {
   "cell_type": "code",
   "execution_count": 7,
   "metadata": {},
   "outputs": [],
   "source": [
    "# Shuffle\n",
    "\n",
    "from sklearn.utils import shuffle\n",
    "X,y = shuffle(X, y, random_state=0)"
   ]
  },
  {
   "cell_type": "code",
   "execution_count": 10,
   "metadata": {},
   "outputs": [],
   "source": [
    "# Split data into train and test sets\n",
    "\n",
    "from sklearn.model_selection import train_test_split\n",
    "X_train, X_test, y_train, y_test = train_test_split(X, y, test_size=0.3, random_state=42)"
   ]
  },
  {
   "cell_type": "code",
   "execution_count": 11,
   "metadata": {},
   "outputs": [
    {
     "data": {
      "text/plain": [
       "(105000, 45000)"
      ]
     },
     "execution_count": 11,
     "metadata": {},
     "output_type": "execute_result"
    }
   ],
   "source": [
    "len(X_train), len(X_test)"
   ]
  },
  {
   "cell_type": "code",
   "execution_count": 28,
   "metadata": {},
   "outputs": [
    {
     "data": {
      "text/plain": [
       "SVC(C=1.0, cache_size=200, class_weight=None, coef0=0.0,\n",
       "  decision_function_shape='ovr', degree=3, gamma='auto_deprecated',\n",
       "  kernel='linear', max_iter=-1, probability=False, random_state=None,\n",
       "  shrinking=True, tol=0.001, verbose=False)"
      ]
     },
     "execution_count": 28,
     "metadata": {},
     "output_type": "execute_result"
    }
   ],
   "source": [
    "# SVM model for supervised classification\n",
    "\n",
    "from sklearn import svm\n",
    "#Create a svm Classifier\n",
    "clf = svm.SVC(kernel='linear') # Linear Kernel\n",
    "\n",
    "#Train the model using the training sets\n",
    "clf.fit(X_train[:1000], y_train[:1000] )"
   ]
  },
  {
   "cell_type": "code",
   "execution_count": 29,
   "metadata": {},
   "outputs": [],
   "source": [
    "# Model prediction using test set\n",
    "\n",
    "y_pred = clf.predict(X_test)"
   ]
  },
  {
   "cell_type": "code",
   "execution_count": 30,
   "metadata": {},
   "outputs": [
    {
     "data": {
      "text/plain": [
       "0.6241555555555556"
      ]
     },
     "execution_count": 30,
     "metadata": {},
     "output_type": "execute_result"
    }
   ],
   "source": [
    "# Evaluating the algorithm\n",
    "\n",
    "from sklearn.metrics import accuracy_score\n",
    "accuracy_score(y_test, y_pred)\n"
   ]
  },
  {
   "cell_type": "code",
   "execution_count": 31,
   "metadata": {},
   "outputs": [
    {
     "name": "stdout",
     "output_type": "stream",
     "text": [
      "[[ 8043  3317  3510]\n",
      " [ 1221 13595   121]\n",
      " [ 5757  2987  6449]]\n",
      "              precision    recall  f1-score   support\n",
      "\n",
      "           0       0.54      0.54      0.54     14870\n",
      "           1       0.68      0.91      0.78     14937\n",
      "           2       0.64      0.42      0.51     15193\n",
      "\n",
      "   micro avg       0.62      0.62      0.62     45000\n",
      "   macro avg       0.62      0.63      0.61     45000\n",
      "weighted avg       0.62      0.62      0.61     45000\n",
      "\n"
     ]
    }
   ],
   "source": [
    "# Evaluating the algorithm\n",
    "\n",
    "from sklearn.metrics import classification_report, confusion_matrix\n",
    "print(confusion_matrix(y_test,y_pred))\n",
    "print(classification_report(y_test,y_pred))"
   ]
  },
  {
   "cell_type": "code",
   "execution_count": null,
   "metadata": {},
   "outputs": [],
   "source": []
  }
 ],
 "metadata": {
  "kernelspec": {
   "display_name": "Python 2",
   "language": "python",
   "name": "python2"
  },
  "language_info": {
   "codemirror_mode": {
    "name": "ipython",
    "version": 2
   },
   "file_extension": ".py",
   "mimetype": "text/x-python",
   "name": "python",
   "nbconvert_exporter": "python",
   "pygments_lexer": "ipython2",
   "version": "2.7.12"
  }
 },
 "nbformat": 4,
 "nbformat_minor": 2
}
